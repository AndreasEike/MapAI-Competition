{
 "cells": [
  {
   "cell_type": "markdown",
   "metadata": {},
   "source": [
    "# Training Results Analysis\n"
   ]
  },
  {
   "cell_type": "markdown",
   "metadata": {},
   "source": [
    "### Imports"
   ]
  },
  {
   "cell_type": "code",
   "execution_count": 1,
   "metadata": {},
   "outputs": [],
   "source": [
    "import pandas as pd\n",
    "import numpy as np\n",
    "import json\n",
    "import yaml\n",
    "import glob\n",
    "from pathlib import Path"
   ]
  },
  {
   "cell_type": "markdown",
   "metadata": {},
   "source": [
    "### Helper functions"
   ]
  },
  {
   "cell_type": "code",
   "execution_count": 8,
   "metadata": {},
   "outputs": [],
   "source": [
    "def load_run_log(logfile: str):\n",
    "    with open(logfile, \"r\") as f:\n",
    "        log_lines = [s.strip() for s in f.readlines()]\n",
    "    yml_dicts = [yaml.safe_load(line) for line in log_lines]\n",
    "    out = {k: [] for k in [\"epoch\", \"trainloss\", \"testloss\", \"trainiou\", \"testiou\", \"trainbiou\", \"testbiou\", \"trainscore\", \"testscore\"]}\n",
    "    for d in yml_dicts:\n",
    "        for k, v in d.items():\n",
    "            out[k].append(v)\n",
    "    return out\n",
    "\n",
    "def load_run_config(config_file: str):\n",
    "    with open(config_file, \"r\") as f:\n",
    "        return yaml.safe_load(f)\n",
    "\n",
    "def create_model_leaderboard(runs):\n",
    "    result_dict = {k: [] for k in [\"Run#\", \"ModelType\", \"Backbone\", \"Epochs\", \"TrainBestEpoch\", \"TrainIoU\", \"TrainBIoU\", \"TrainScore\", \"ValBestEpoch\", \"ValIoU\", \"ValBIoU\", \"ValScore\"]}\n",
    "    for run in runs:\n",
    "        run_config = load_run_config(run.joinpath(\"opts.yaml\"))\n",
    "        run_log = load_run_log(run.joinpath(\"run.log\"))\n",
    "        result_dict[\"Run#\"].append(run.name)\n",
    "        result_dict[\"ModelType\"].append(run_config[\"model\"][\"name\"])\n",
    "        result_dict[\"Backbone\"].append(run_config[\"model\"][\"encoder\"])\n",
    "        result_dict[\"Epochs\"].append(len(run_log[\"epoch\"]))\n",
    "        result_dict[\"TrainBestEpoch\"].append(run_log[\"epoch\"][np.argmax(run_log[\"trainscore\"])])\n",
    "        result_dict[\"TrainIoU\"].append(max(run_log[\"trainiou\"]))\n",
    "        result_dict[\"TrainBIoU\"].append(max(run_log[\"trainbiou\"]))\n",
    "        result_dict[\"TrainScore\"].append(max(run_log[\"trainscore\"]))\n",
    "        result_dict[\"ValBestEpoch\"].append(run_log[\"epoch\"][np.argmax(run_log[\"testscore\"])])\n",
    "        result_dict[\"ValIoU\"].append(max(run_log[\"testiou\"]))\n",
    "        result_dict[\"ValBIoU\"].append(max(run_log[\"testbiou\"]))\n",
    "        result_dict[\"ValScore\"].append(max(run_log[\"testscore\"]))\n",
    "    return pd.DataFrame(result_dict).set_index(\"Run#\").sort_values(by=\"ValScore\")\n",
    "\n",
    "def get_filtered_runs(runs_dir):\n",
    "    runs = [run for run in Path(runs_dir).iterdir() if run.name.startswith(\"run_\")]\n",
    "    filtered_runs = [run for run in runs if Path(run).joinpath(\"run.log\").exists()]\n",
    "    print(f\"Found {len(runs)} runs - {len(filtered_runs)} containing logs:\")\n",
    "    print([run.name for run in filtered_runs])\n",
    "    return filtered_runs"
   ]
  },
  {
   "cell_type": "markdown",
   "metadata": {},
   "source": [
    "## Generate model leaderboard"
   ]
  },
  {
   "cell_type": "code",
   "execution_count": 9,
   "metadata": {},
   "outputs": [
    {
     "name": "stdout",
     "output_type": "stream",
     "text": [
      "Found 2 runs - 1 containing logs:\n",
      "['run_54']\n"
     ]
    },
    {
     "data": {
      "text/html": [
       "<div>\n",
       "<style scoped>\n",
       "    .dataframe tbody tr th:only-of-type {\n",
       "        vertical-align: middle;\n",
       "    }\n",
       "\n",
       "    .dataframe tbody tr th {\n",
       "        vertical-align: top;\n",
       "    }\n",
       "\n",
       "    .dataframe thead th {\n",
       "        text-align: right;\n",
       "    }\n",
       "</style>\n",
       "<table border=\"1\" class=\"dataframe\">\n",
       "  <thead>\n",
       "    <tr style=\"text-align: right;\">\n",
       "      <th></th>\n",
       "      <th>ModelType</th>\n",
       "      <th>Backbone</th>\n",
       "      <th>Epochs</th>\n",
       "      <th>TrainBestEpoch</th>\n",
       "      <th>TrainIoU</th>\n",
       "      <th>TrainBIoU</th>\n",
       "      <th>TrainScore</th>\n",
       "      <th>ValBestEpoch</th>\n",
       "      <th>ValIoU</th>\n",
       "      <th>ValBIoU</th>\n",
       "      <th>ValScore</th>\n",
       "    </tr>\n",
       "    <tr>\n",
       "      <th>Run#</th>\n",
       "      <th></th>\n",
       "      <th></th>\n",
       "      <th></th>\n",
       "      <th></th>\n",
       "      <th></th>\n",
       "      <th></th>\n",
       "      <th></th>\n",
       "      <th></th>\n",
       "      <th></th>\n",
       "      <th></th>\n",
       "      <th></th>\n",
       "    </tr>\n",
       "  </thead>\n",
       "  <tbody>\n",
       "    <tr>\n",
       "      <th>run_54</th>\n",
       "      <td>UNet++</td>\n",
       "      <td>efficientnet-b4</td>\n",
       "      <td>2</td>\n",
       "      <td>1</td>\n",
       "      <td>0.5338</td>\n",
       "      <td>0.4809</td>\n",
       "      <td>0.5073</td>\n",
       "      <td>1</td>\n",
       "      <td>0.7555</td>\n",
       "      <td>0.6825</td>\n",
       "      <td>0.719</td>\n",
       "    </tr>\n",
       "  </tbody>\n",
       "</table>\n",
       "</div>"
      ],
      "text/plain": [
       "       ModelType         Backbone  Epochs  TrainBestEpoch  TrainIoU  \\\n",
       "Run#                                                                  \n",
       "run_54    UNet++  efficientnet-b4       2               1    0.5338   \n",
       "\n",
       "        TrainBIoU  TrainScore  ValBestEpoch  ValIoU  ValBIoU  ValScore  \n",
       "Run#                                                                    \n",
       "run_54     0.4809      0.5073             1  0.7555   0.6825     0.719  "
      ]
     },
     "metadata": {},
     "output_type": "display_data"
    }
   ],
   "source": [
    "runs = get_filtered_runs(\"runs/task_1/\")\n",
    "df = create_model_leaderboard(runs)\n",
    "display(df)"
   ]
  }
 ],
 "metadata": {
  "kernelspec": {
   "display_name": "Python 3.8.13 ('mapai-comp')",
   "language": "python",
   "name": "python3"
  },
  "language_info": {
   "codemirror_mode": {
    "name": "ipython",
    "version": 3
   },
   "file_extension": ".py",
   "mimetype": "text/x-python",
   "name": "python",
   "nbconvert_exporter": "python",
   "pygments_lexer": "ipython3",
   "version": "3.8.13"
  },
  "orig_nbformat": 4,
  "vscode": {
   "interpreter": {
    "hash": "a76fd8ab16cc75222b6029244739437143896b24de42dafcc6053c93fd1c447c"
   }
  }
 },
 "nbformat": 4,
 "nbformat_minor": 2
}
