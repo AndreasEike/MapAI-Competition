{
 "cells": [
  {
   "cell_type": "code",
   "execution_count": 4,
   "metadata": {},
   "outputs": [],
   "source": [
    "from competition_toolkit.dataloader import download_dataset\n",
    "from torch.utils.data import Dataset"
   ]
  },
  {
   "cell_type": "markdown",
   "metadata": {},
   "source": [
    "# Load dataset"
   ]
  },
  {
   "cell_type": "code",
   "execution_count": 6,
   "metadata": {},
   "outputs": [
    {
     "name": "stderr",
     "output_type": "stream",
     "text": [
      "Found cached dataset mapai_training_data (/home/lixado/.cache/huggingface/datasets/sjyhne___mapai_training_data/building_segmentation/1.0.0/b0b52f8c47ddbeae1962ab524cabb5fbed58d91cc70f9ac4c5981c071ad5f248)\n",
      "Found cached dataset mapai_training_data (/home/lixado/.cache/huggingface/datasets/sjyhne___mapai_training_data/building_segmentation/1.0.0/b0b52f8c47ddbeae1962ab524cabb5fbed58d91cc70f9ac4c5981c071ad5f248)\n"
     ]
    },
    {
     "name": "stdout",
     "output_type": "stream",
     "text": [
      "Dataset({\n",
      "    features: ['image', 'lidar', 'mask'],\n",
      "    num_rows: 7000\n",
      "})\n",
      "Sample: {'image': '../../data/train/images/6179_495_44.tif', 'lidar': '../../data/train/lidar/6179_495_44.tif', 'mask': '../../data/train/masks/6179_495_44.tif'}\n",
      "Dataset({\n",
      "    features: ['image', 'lidar', 'mask'],\n",
      "    num_rows: 1500\n",
      "})\n",
      "Sample: {'image': '../../data/validation/images/6305_471_68.tif', 'lidar': '../../data/validation/lidar/6305_471_68.tif', 'mask': '../../data/validation/masks/6305_471_68.tif'}\n"
     ]
    }
   ],
   "source": [
    "trainDataset = download_dataset(\"train\", 1, get_dataset=True)\n",
    "testDataset = download_dataset(\"validation\", 1, get_dataset=True)\n",
    "\n",
    "print(trainDataset)\n",
    "print(f'Sample: {trainDataset[0]}')\n",
    "print(testDataset)\n",
    "print(f'Sample: {testDataset[0]}')"
   ]
  },
  {
   "cell_type": "code",
   "execution_count": null,
   "metadata": {},
   "outputs": [],
   "source": []
  }
 ],
 "metadata": {
  "kernelspec": {
   "display_name": "Python 3.10.6 ('env')",
   "language": "python",
   "name": "python3"
  },
  "language_info": {
   "codemirror_mode": {
    "name": "ipython",
    "version": 3
   },
   "file_extension": ".py",
   "mimetype": "text/x-python",
   "name": "python",
   "nbconvert_exporter": "python",
   "pygments_lexer": "ipython3",
   "version": "3.10.6"
  },
  "orig_nbformat": 4,
  "vscode": {
   "interpreter": {
    "hash": "8cb23e0453d29d6a9624bbad90ee62cc43a7d69daeeb30dedf8e2013a6afbd09"
   }
  }
 },
 "nbformat": 4,
 "nbformat_minor": 2
}
